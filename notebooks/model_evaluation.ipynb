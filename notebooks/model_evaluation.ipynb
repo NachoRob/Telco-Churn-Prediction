{
 "cells": [
  {
   "cell_type": "code",
   "execution_count": null,
   "metadata": {},
   "outputs": [
    {
     "name": "stdout",
     "output_type": "stream",
     "text": [
      "🔹 Mejor configuración para Regresión Logística: {'C': 0.1, 'penalty': 'l2', 'solver': 'saga'}\n",
      "Mejor F1-score en test: 0.7420\n"
     ]
    }
   ],
   "source": [
    "from sklearn.model_selection import GridSearchCV\n",
    "from sklearn.linear_model import LogisticRegression\n",
    "\n",
    "# Corregir la cuadrícula de hiperparámetros\n",
    "param_grid_logreg = {\n",
    "    'C': [0.01, 0.1, 1, 10],  # Eliminamos valores extremos\n",
    "    'penalty': ['l1', 'l2'],  \n",
    "    'solver': ['saga']  # 'saga' es más estable para l1 y l2\n",
    "}\n",
    "\n",
    "# Aplicar GridSearchCV con más iteraciones\n",
    "grid_logreg = GridSearchCV(LogisticRegression(max_iter=10000, random_state=42), \n",
    "                           param_grid_logreg, cv=5, scoring='f1', n_jobs=-1)\n",
    "grid_logreg.fit(X_train, y_train)\n",
    "\n",
    "# Mostrar los mejores hiperparámetros\n",
    "print(\"🔹 Mejor configuración para Regresión Logística:\", grid_logreg.best_params_)\n",
    "\n",
    "# Evaluar el mejor modelo\n",
    "best_logreg = grid_logreg.best_estimator_\n",
    "y_pred_logreg = best_logreg.predict(X_test)\n",
    "\n",
    "from sklearn.metrics import f1_score\n",
    "print(f\"Mejor F1-score en test: {f1_score(y_test, y_pred_logreg):.4f}\")"
   ]
  }
 ],
 "metadata": {
  "language_info": {
   "name": "python"
  }
 },
 "nbformat": 4,
 "nbformat_minor": 2
}
