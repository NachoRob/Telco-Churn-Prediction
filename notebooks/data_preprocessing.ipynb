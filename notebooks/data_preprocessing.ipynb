{
 "cells": [
  {
   "cell_type": "code",
   "execution_count": null,
   "metadata": {},
   "outputs": [],
   "source": [
    "# 📌 Preprocesamiento de Datos para la Predicción de Churn\n",
    "\n",
    "import pandas as pd\n",
    "import numpy as np\n",
    "from sklearn.preprocessing import StandardScaler, OneHotEncoder\n",
    "from sklearn.impute import SimpleImputer\n",
    "from sklearn.model_selection import train_test_split\n",
    "from imblearn.over_sampling import SMOTE\n",
    "\n",
    "# 📌 Cargar dataset\n",
    "df = pd.read_csv(\"../dataset.csv\")\n",
    "\n",
    "# 📌 1. Identificar y eliminar columnas irrelevantes\n",
    "df.drop([\"customerID\", \"Churn Reason\"], axis=1, inplace=True, errors='ignore')\n",
    "\n",
    "# 📌 2. Convertir columnas numéricas incorrectas\n",
    "df[\"Total Charges\"] = pd.to_numeric(df[\"Total Charges\"], errors=\"coerce\")\n",
    "\n",
    "# 📌 3. Manejo de valores nulos\n",
    "imputer = SimpleImputer(strategy=\"median\")\n",
    "df[\"Total Charges\"] = imputer.fit_transform(df[[\"Total Charges\"]])\n",
    "\n",
    "# 📌 4. Codificación de variables categóricas\n",
    "cat_cols = df.select_dtypes(include=[\"object\"]).columns\n",
    "encoder = OneHotEncoder(drop=\"first\", sparse=False)\n",
    "encoded_data = pd.DataFrame(encoder.fit_transform(df[cat_cols]))\n",
    "encoded_data.columns = encoder.get_feature_names_out(cat_cols)\n",
    "\n",
    "df = df.drop(cat_cols, axis=1).reset_index(drop=True)\n",
    "df = pd.concat([df, encoded_data], axis=1)\n",
    "\n",
    "# 📌 5. Normalización de variables numéricas\n",
    "num_cols = [\"Tenure Months\", \"Monthly Charges\", \"Total Charges\"]\n",
    "scaler = StandardScaler()\n",
    "df[num_cols] = scaler.fit_transform(df[num_cols])\n",
    "\n",
    "# 📌 6. Separar variables predictoras y objetivo\n",
    "X = df.drop(columns=[\"Churn Value\"])\n",
    "y = df[\"Churn Value\"]\n",
    "\n",
    "# 📌 7. Dividir en conjuntos de entrenamiento y prueba\n",
    "X_train, X_test, y_train, y_test = train_test_split(X, y, test_size=0.2, random_state=42, stratify=y)\n",
    "\n",
    "# 📌 8. Balanceo de clases con SMOTE\n",
    "smote = SMOTE(random_state=42)\n",
    "X_train_balanced, y_train_balanced = smote.fit_resample(X_train, y_train)\n",
    "\n",
    "# 📌 Guardar conjuntos preprocesados\n",
    "X_train_balanced.to_csv(\"../data/X_train.csv\", index=False)\n",
    "X_test.to_csv(\"../data/X_test.csv\", index=False)\n",
    "y_train_balanced.to_csv(\"../data/y_train.csv\", index=False)\n",
    "y_test.to_csv(\"../data/y_test.csv\", index=False)\n",
    "\n",
    "print(\"✅ Preprocesamiento completado y datos guardados.\")"
   ]
  }
 ],
 "metadata": {
  "kernelspec": {
   "display_name": "mi_entorno_ds",
   "language": "python",
   "name": "python3"
  },
  "language_info": {
   "codemirror_mode": {
    "name": "ipython",
    "version": 3
   },
   "file_extension": ".py",
   "mimetype": "text/x-python",
   "name": "python",
   "nbconvert_exporter": "python",
   "pygments_lexer": "ipython3",
   "version": "3.12.7"
  }
 },
 "nbformat": 4,
 "nbformat_minor": 2
}
